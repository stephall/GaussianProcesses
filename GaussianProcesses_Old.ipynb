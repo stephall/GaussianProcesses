{
 "cells": [
  {
   "cell_type": "code",
   "execution_count": 117,
   "metadata": {},
   "outputs": [],
   "source": [
    "import numpy as np\n",
    "import matplotlib.pyplot as plt\n",
    "import scipy.stats as stats\n",
    "from IPython.core.pylabtools import figsize"
   ]
  },
  {
   "cell_type": "code",
   "execution_count": 69,
   "metadata": {},
   "outputs": [],
   "source": [
    "def cov_matrix(w, v, kernel_func):\n",
    "    \"\"\"\n",
    "    Calculate the covariance matrix between two 2d arrays w \n",
    "    and v using the provided Kernel function.\n",
    "    \"\"\"\n",
    "    # Check that the second axis has same dimensionality for both arrays\n",
    "    if w.shape[1]!=v.shape[1]:\n",
    "        err_msg = \"The arrays w and v must have the same second axis dimensionality.\"\n",
    "        raise ValueError(err_msg)\n",
    "    \n",
    "    # Now reshape both vectors to 3dim arrays filling different dimernsions\n",
    "    w3d = w[:, None, :]\n",
    "    v3d = v[None, :, :]\n",
    "    \n",
    "    # Calculate the kernel function on these vectors\n",
    "    return kernel['func'](w3d, v3d, params=kernel['params'])\n",
    "\n",
    "def rbf_kernel(w, v, params={'lam': 1}):\n",
    "    \"\"\"\n",
    "    Return the vectorized rbf Kernel between the arrays w and v.\n",
    "    \"\"\" \n",
    "    # Calculate the norm of the difference, which has shape \n",
    "    # (w.0=#samples_w, v.1=#samples_v, w.2*v.2=sample_dim^2),\n",
    "    # along the last axis (which would be axis 2)\n",
    "    diff = np.linalg.norm(w-v, axis=-1)\n",
    "    return np.exp(-diff**2/params['lam']**2/2)"
   ]
  },
  {
   "cell_type": "code",
   "execution_count": 116,
   "metadata": {},
   "outputs": [
    {
     "data": {
      "image/png": "[encoded data removed]",
      "text/plain": [
       "<Figure size 360x360 with 1 Axes>"
      ]
     },
     "metadata": {},
     "output_type": "display_data"
    },
    {
     "ename": "TypeError",
     "evalue": "scatter() missing 1 required positional argument: 'self'",
     "output_type": "error",
     "traceback": [
      "\u001b[0;31m---------------------------------------------------------------------------\u001b[0m",
      "\u001b[0;31mTypeError\u001b[0m                                 Traceback (most recent call last)",
      "\u001b[0;32m<ipython-input-116-99f300678568>\u001b[0m in \u001b[0;36m<module>\u001b[0;34m()\u001b[0m\n\u001b[1;32m     51\u001b[0m \u001b[0;34m\u001b[0m\u001b[0m\n\u001b[1;32m     52\u001b[0m \u001b[0;34m\u001b[0m\u001b[0m\n\u001b[0;32m---> 53\u001b[0;31m \u001b[0mAxes3D\u001b[0m\u001b[0;34m.\u001b[0m\u001b[0mscatter\u001b[0m\u001b[0;34m(\u001b[0m\u001b[0mxs\u001b[0m\u001b[0;34m=\u001b[0m\u001b[0mdata_x\u001b[0m\u001b[0;34m[\u001b[0m\u001b[0;34m:\u001b[0m\u001b[0;34m,\u001b[0m \u001b[0;36m0\u001b[0m\u001b[0;34m]\u001b[0m\u001b[0;34m,\u001b[0m \u001b[0mys\u001b[0m\u001b[0;34m=\u001b[0m\u001b[0mdata_x\u001b[0m\u001b[0;34m[\u001b[0m\u001b[0;34m:\u001b[0m\u001b[0;34m,\u001b[0m \u001b[0;36m1\u001b[0m\u001b[0;34m]\u001b[0m\u001b[0;34m,\u001b[0m \u001b[0mzs\u001b[0m\u001b[0;34m=\u001b[0m\u001b[0msamples\u001b[0m\u001b[0;34m.\u001b[0m\u001b[0mT\u001b[0m\u001b[0;34m,\u001b[0m \u001b[0mcolor\u001b[0m\u001b[0;34m=\u001b[0m\u001b[0;34m'o'\u001b[0m\u001b[0;34m)\u001b[0m\u001b[0;34m\u001b[0m\u001b[0;34m\u001b[0m\u001b[0m\n\u001b[0m\u001b[1;32m     54\u001b[0m \u001b[0mplt\u001b[0m\u001b[0;34m.\u001b[0m\u001b[0mhlines\u001b[0m\u001b[0;34m(\u001b[0m\u001b[0;36m0\u001b[0m\u001b[0;34m,\u001b[0m \u001b[0mnp\u001b[0m\u001b[0;34m.\u001b[0m\u001b[0mmin\u001b[0m\u001b[0;34m(\u001b[0m\u001b[0mdata_x\u001b[0m\u001b[0;34m)\u001b[0m\u001b[0;34m,\u001b[0m \u001b[0mnp\u001b[0m\u001b[0;34m.\u001b[0m\u001b[0mmax\u001b[0m\u001b[0;34m(\u001b[0m\u001b[0mdata_x\u001b[0m\u001b[0;34m)\u001b[0m\u001b[0;34m,\u001b[0m \u001b[0mlinestyles\u001b[0m\u001b[0;34m=\u001b[0m\u001b[0;34m'--'\u001b[0m\u001b[0;34m,\u001b[0m \u001b[0mcolor\u001b[0m\u001b[0;34m=\u001b[0m\u001b[0;34m'c'\u001b[0m\u001b[0;34m)\u001b[0m\u001b[0;34m\u001b[0m\u001b[0;34m\u001b[0m\u001b[0m\n\u001b[1;32m     55\u001b[0m \u001b[0mplt\u001b[0m\u001b[0;34m.\u001b[0m\u001b[0mxlabel\u001b[0m\u001b[0;34m(\u001b[0m\u001b[0;34m'x'\u001b[0m\u001b[0;34m)\u001b[0m\u001b[0;34m\u001b[0m\u001b[0;34m\u001b[0m\u001b[0m\n",
      "\u001b[0;31mTypeError\u001b[0m: scatter() missing 1 required positional argument: 'self'"
     ]
    }
   ],
   "source": [
    "# Set a random seed\n",
    "np.random.seed(42)\n",
    "\n",
    "# Define the number of samples\n",
    "num_samples = 2\n",
    "\n",
    "# Define the lambda parameter\n",
    "lam = 10\n",
    "\n",
    "# Create two test data points\n",
    "data_x = np.array([[0, 0], [1, 0], [0, 1], [1, 1]])\n",
    "data_x = np.linspace(0, 4, 5).reshape(-1, 1)\n",
    "\n",
    "# Define the kernel function\n",
    "kernel = {'func': rbf_kernel, 'params': {'lam': lam}}\n",
    "\n",
    "# Calculate the covariance matrix of the data using the kernel\n",
    "cov_mat = cov_matrix(data_x, data_x, kernel)\n",
    "\n",
    "plt.imshow(cov_mat)\n",
    "plt.show();\n",
    "\n",
    "# Use this covariance matrix to built a multivariate Guassian \n",
    "# centered at the origin\n",
    "mgauss = stats.multivariate_normal(mean=np.zeros(data_x.shape[0]), cov=cov_mat)\n",
    "\n",
    "# Sample some points from this gaussian\n",
    "samples = mgauss.rvs(size=num_samples)\n",
    "\n",
    "# Plot the mgauss on a grid\n",
    "x, y = np.mgrid[-3:3:.01, -3:3:.01]\n",
    "pos = np.empty(x.shape + (2,))\n",
    "pos[:, :, 0] = x; pos[:, :, 1] = y\n",
    "\n",
    "# In case we have only two datapoints we can visualize things:\n",
    "if data_x.shape[0]==2:\n",
    "    print(\"Covariance Matrix:\\n\", cov_mat)\n",
    "    print()\n",
    "    \n",
    "    print(\"Samples:\\n\", samples)\n",
    "    print()\n",
    "\n",
    "    figsize(5, 5)\n",
    "    plt.contourf(x, y, mgauss.pdf(pos))\n",
    "    plt.hlines(0, np.min(x), np.max(x), linestyles='--', color='w')\n",
    "    plt.vlines(0, np.min(y), np.max(y), linestyles='--', color='w')\n",
    "    plt.scatter(samples[:, 0], samples[:, 1], c='k', s=10)\n",
    "    plt.xlabel('data_x_1')\n",
    "    plt.ylabel('data_x_2')\n",
    "    plt.show();\n",
    "\n",
    "\n",
    "plt.plot(data_x, samples.T, 'o-')\n",
    "plt.hlines(0, np.min(data_x), np.max(data_x), linestyles='--', color='c')\n",
    "plt.xlabel('x')\n",
    "plt.ylabel('y', rotation=0);"
   ]
  },
  {
   "cell_type": "code",
   "execution_count": null,
   "metadata": {},
   "outputs": [],
   "source": []
  }
 ],
 "metadata": {
  "kernelspec": {
   "display_name": "Python 3",
   "language": "python",
   "name": "python3"
  },
  "language_info": {
   "codemirror_mode": {
    "name": "ipython",
    "version": 3
   },
   "file_extension": ".py",
   "mimetype": "text/x-python",
   "name": "python",
   "nbconvert_exporter": "python",
   "pygments_lexer": "ipython3",
   "version": "3.6.8"
  }
 },
 "nbformat": 4,
 "nbformat_minor": 2
}
